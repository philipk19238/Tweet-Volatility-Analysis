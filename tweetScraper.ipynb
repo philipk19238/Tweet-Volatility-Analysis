{
 "cells": [
  {
   "cell_type": "code",
   "execution_count": 160,
   "metadata": {},
   "outputs": [],
   "source": [
    "import selenium \n",
    "from selenium import webdriver\n",
    "import pandas as pd\n",
    "import matplotlib.pyplot as plt\n",
    "\n",
    "#path of chromedriver object. If you are trying to test the code, ensure you point the path\n",
    "#to the proper location\n",
    "path = r'C:\\Users\\Philip\\AppData\\Local\\Programs\\Python\\Python38-32/chromedriver.exe'\n",
    "\n",
    "def getDates():\n",
    "    #returns the date of every Trump tweet\n",
    "    return [i.text[:12] for i in driver.find_elements_by_xpath('//span[@class=\"tweet-date ng-binding\"]')]\n",
    "\n",
    "def manipulateData(dateList):\n",
    "    #grouping the number of tweets by setting the keys as the date and the value as number of daily tweets for that date \n",
    "    dateDic = Counter(dateList)\n",
    "    #data wrangling to dataframe format\n",
    "    tweetDf = pd.DataFrame(dateDic, index=[0]).T.iloc[:list(dateDic.keys()).index('Jan 19, 2017')].rename(columns={0:'DailyTweetAmounts'})\n",
    "    tweetDf.to_csv('dailytweets.csv')\n",
    "    #reversing the dataframe to display results in chronological order\n",
    "    return tweetDf.iloc[::-1]\n",
    "\n",
    "def graphData(x_axis, y_axis):\n",
    "    fig,ax = plt.subplots(figsize=(25,10))\n",
    "    #creating bar graph with x axis as date and y axis at daily tweet amounts\n",
    "    ax.bar(x_axis, y_axis)\n",
    "    ax.set_title('Daily Trump Tweet Amounts', fontsize=23)\n",
    "    ax.set_xlabel('Dates (Jan 2017 to April 2020)', fontsize=15)\n",
    "    ax.set_ylabel('Daily Tweet Amount',fontsize=15)\n",
    "    \n",
    "def main(url='http://www.trumptwitterarchive.com/archive'):\n",
    "    driver = webdriver.Chrome(path)\n",
    "    driver.implicitly_wait(30)\n",
    "    driver.maximize_window()\n",
    "    driver.get(url)\n",
    "    #make sure to scroll down to 2017 tweets\n",
    "    tweetAmount = getDates()\n",
    "    tweetDf = manipulateData(tweetAmount)\n",
    "    graphData(tweetDf.index, tweetDf['DailyTweetAmounts']) \n",
    "    \n",
    "if __name__ == \"__main__\":\n",
    "    main()"
   ]
  }
 ],
 "metadata": {
  "kernelspec": {
   "display_name": "Python 3",
   "language": "python",
   "name": "python3"
  },
  "language_info": {
   "codemirror_mode": {
    "name": "ipython",
    "version": 3
   },
   "file_extension": ".py",
   "mimetype": "text/x-python",
   "name": "python",
   "nbconvert_exporter": "python",
   "pygments_lexer": "ipython3",
   "version": "3.7.4"
  }
 },
 "nbformat": 4,
 "nbformat_minor": 4
}
