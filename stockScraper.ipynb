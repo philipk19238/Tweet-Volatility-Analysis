{
 "cells": [
  {
   "cell_type": "code",
   "execution_count": null,
   "metadata": {},
   "outputs": [],
   "source": [
    "import selenium \n",
    "from selenium import webdriver\n",
    "import pandas as pd\n",
    "import matplotlib.pyplot as plt\n",
    "import time\n",
    "\n",
    "#path of chromedriver object. If you are trying to test the code, ensure you point the path\n",
    "#to the proper location\n",
    "path = r'C:\\Users\\Philip\\AppData\\Local\\Programs\\Python\\Python38-32/chromedriver.exe'\n",
    "\n",
    "def scrollBottom():\n",
    "    #scrolls all the way down so scraper can access all data\n",
    "    page = driver.find_element_by_tag_name('body')\n",
    "    for i in range(200):\n",
    "        page.send_keys(Keys.PAGE_DOWN)\n",
    "\n",
    "def getData():\n",
    "    symbolData = driver.find_elements_by_xpath('//td[@class=\"Py(10px) Pstart(10px)\"]')\n",
    "    #returns every sixth variable to exclude useless data \n",
    "    volumecol = [symbolData[index].text for index in range(5,len(symbolData),6)]\n",
    "    dates = [date.text for date in driver.find_elements_by_xpath('//td[@class=\"Py(10px) Ta(start) Pend(10px)\"]')]\n",
    "    return volumecol, dates\n",
    "\n",
    "def manipulateData(date, volume):\n",
    "    df = pd.DataFrame(volume, index = date).iloc[::-1].rename(columns={0:'volume'})\n",
    "    #converting strings to float\n",
    "    df['volume'] = df['volume'].apply(lambda row: float(row.replace(',',\"\")))\n",
    "    #finding percentage change\n",
    "    df = df.pct_change()\n",
    "    #multiplying values by 100 to display in percentage notation\n",
    "    df['volume'] = df['volume'].apply(lambda row: row * 100)\n",
    "    return df\n",
    "\n",
    "def graphData(data):\n",
    "    fig,ax = plt.subplots(figsize=(25,10))\n",
    "    ax.bar(df.index, df['volume'])\n",
    "    ax.set_title('Change in Daily Volume since 2017', fontsize=23)\n",
    "    ax.set_ylabel('Percent Change in Volume',fontsize = 15)\n",
    "    ax.set_xlabel('Date (Jan 2017 to April 2020)',fontsize=15)\n",
    "    \n",
    "def main():\n",
    "    driver = webdriver.Chrome(path)\n",
    "    driver.implicitly_wait(30)\n",
    "    driver.maximize_window()\n",
    "    driver.get('https://finance.yahoo.com/quote/%5EDJI/history?period1=1484870400&period2=1586649600&interval=1d&filter=history&frequency=1d')\n",
    "    time.sleep(2)\n",
    "    scrollBottom()\n",
    "    data = getData()\n",
    "    df = manipulateData(data[1], data[0])\n",
    "    graphData(df)\n",
    "    df.to_csv('volumechange.csv')\n",
    "\n",
    "if __name__ == \"__main__\":\n",
    "    main()"
   ]
  }
 ],
 "metadata": {
  "kernelspec": {
   "display_name": "Python 3",
   "language": "python",
   "name": "python3"
  },
  "language_info": {
   "codemirror_mode": {
    "name": "ipython",
    "version": 3
   },
   "file_extension": ".py",
   "mimetype": "text/x-python",
   "name": "python",
   "nbconvert_exporter": "python",
   "pygments_lexer": "ipython3",
   "version": "3.7.4"
  }
 },
 "nbformat": 4,
 "nbformat_minor": 4
}
